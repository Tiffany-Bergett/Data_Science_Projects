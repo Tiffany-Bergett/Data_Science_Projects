{
  "nbformat": 4,
  "nbformat_minor": 0,
  "metadata": {
    "colab": {
      "provenance": []
    },
    "kernelspec": {
      "name": "python3",
      "display_name": "Python 3"
    },
    "language_info": {
      "name": "python"
    }
  },
  "cells": [
    {
      "cell_type": "markdown",
      "source": [
        "#Scenario\n",
        "\n",
        "A local shop specializes in buying, repairing, and selling discontinued electronics. Old gaming consoles are a significant revenue stream for them. To optimize pricing and prioritize repairs, the shop has compiled historical sales data for these consoles. Let's examine the dataset, which is provided as a nested list in the console_data variable:"
      ],
      "metadata": {
        "id": "keTOQhNRzqV7"
      }
    },
    {
      "cell_type": "code",
      "execution_count": 2,
      "metadata": {
        "id": "tByccCSVkqti"
      },
      "outputs": [],
      "source": [
        "console_data = [['NES', 'Nintendo', 1985, 1995, 179.0, 61910000],\n",
        "                ['Game Boy', 'Nintendo', 1989, 2003, 89.99, 118690000],\n",
        "                ['SNES', 'Nintendo', 1990, 2003, 199.0, 49100000],\n",
        "                ['Virtual Boy', 'Nintendo', 1995, 1996, 179.95, 770000],\n",
        "                ['Game Boy Advance', 'Nintendo', 2001, 2010, 99.99, 81510000],\n",
        "                ['Atari 2600', 'Atari', 1977, 1992, 199.0, 30000000],\n",
        "                ['Sega Genesis', 'Sega', 1988, 1997, 189.0, 30750000],\n",
        "                ['Game Gear', 'Sega', 1990, 1997, 149.99, 10620000],\n",
        "                ['Sega CD', 'Sega', 1991, 1996, 299.0, 2240000],\n",
        "                ['3DO', 'The 3DO Company', 1993, 1996, 699.99, 2000000],\n",
        "                ['PlayStation', 'Sony Electronics', 1994, 2006, 299.0, 102490000],\n",
        "                ['PlayStation 2', 'Sony Electronics', 2000, 2013, 299.0, 155000000]]"
      ]
    },
    {
      "cell_type": "markdown",
      "source": [
        "This dataset contains the following information for each console:\n",
        "\n",
        "**console**: The name of the gaming console.  \n",
        "**company**: The manufacturer of the console.  \n",
        "**release_year**: The year the console was first released.  \n",
        "**discontinued_year**: The year the console was discontinued.  \n",
        "**release_price**: The initial retail price of the console.  \n",
        "**units_sold**: The total number of units sold during its product run.  "
      ],
      "metadata": {
        "id": "3XsstykuzyYw"
      }
    },
    {
      "cell_type": "markdown",
      "source": [
        "##Task 1: Displaying the Dataset"
      ],
      "metadata": {
        "id": "gzyBiWf20Bln"
      }
    },
    {
      "cell_type": "markdown",
      "source": [
        "###Question 1a: Basic Display\n",
        "\n",
        "Print each row of the console_data on its own line."
      ],
      "metadata": {
        "id": "8quBnJJ30Idx"
      }
    },
    {
      "cell_type": "code",
      "source": [
        "for row in console_data:\n",
        "    print(row)\n",
        "print()"
      ],
      "metadata": {
        "colab": {
          "base_uri": "https://localhost:8080/"
        },
        "id": "SimKdPDc0N86",
        "outputId": "90a40319-e55f-4a7a-9de4-34102d351268"
      },
      "execution_count": 3,
      "outputs": [
        {
          "output_type": "stream",
          "name": "stdout",
          "text": [
            "['NES', 'Nintendo', 1985, 1995, 179.0, 61910000]\n",
            "['Game Boy', 'Nintendo', 1989, 2003, 89.99, 118690000]\n",
            "['SNES', 'Nintendo', 1990, 2003, 199.0, 49100000]\n",
            "['Virtual Boy', 'Nintendo', 1995, 1996, 179.95, 770000]\n",
            "['Game Boy Advance', 'Nintendo', 2001, 2010, 99.99, 81510000]\n",
            "['Atari 2600', 'Atari', 1977, 1992, 199.0, 30000000]\n",
            "['Sega Genesis', 'Sega', 1988, 1997, 189.0, 30750000]\n",
            "['Game Gear', 'Sega', 1990, 1997, 149.99, 10620000]\n",
            "['Sega CD', 'Sega', 1991, 1996, 299.0, 2240000]\n",
            "['3DO', 'The 3DO Company', 1993, 1996, 699.99, 2000000]\n",
            "['PlayStation', 'Sony Electronics', 1994, 2006, 299.0, 102490000]\n",
            "['PlayStation 2', 'Sony Electronics', 2000, 2013, 299.0, 155000000]\n",
            "\n"
          ]
        }
      ]
    },
    {
      "cell_type": "markdown",
      "source": [
        "###Question 1b: Formatted Display\n",
        "\n",
        "Print each row with elements left-aligned and a fixed string length of 20 characters for better readability."
      ],
      "metadata": {
        "id": "ekdx9NPR0hY1"
      }
    },
    {
      "cell_type": "code",
      "source": [
        "for row in console_data:\n",
        "    for column in row:\n",
        "        print(f'{column:<20}', end='')\n",
        "    print()"
      ],
      "metadata": {
        "colab": {
          "base_uri": "https://localhost:8080/"
        },
        "id": "aJ0-TF2A0miF",
        "outputId": "065ffcd9-ff81-47e9-8c45-4bbb4e6f8761"
      },
      "execution_count": 4,
      "outputs": [
        {
          "output_type": "stream",
          "name": "stdout",
          "text": [
            "NES                 Nintendo            1985                1995                179.0               61910000            \n",
            "Game Boy            Nintendo            1989                2003                89.99               118690000           \n",
            "SNES                Nintendo            1990                2003                199.0               49100000            \n",
            "Virtual Boy         Nintendo            1995                1996                179.95              770000              \n",
            "Game Boy Advance    Nintendo            2001                2010                99.99               81510000            \n",
            "Atari 2600          Atari               1977                1992                199.0               30000000            \n",
            "Sega Genesis        Sega                1988                1997                189.0               30750000            \n",
            "Game Gear           Sega                1990                1997                149.99              10620000            \n",
            "Sega CD             Sega                1991                1996                299.0               2240000             \n",
            "3DO                 The 3DO Company     1993                1996                699.99              2000000             \n",
            "PlayStation         Sony Electronics    1994                2006                299.0               102490000           \n",
            "PlayStation 2       Sony Electronics    2000                2013                299.0               155000000           \n"
          ]
        }
      ]
    },
    {
      "cell_type": "markdown",
      "source": [
        "##Task 2: Retrieving Specific Data\n",
        "\n",
        "###Question 2:\n",
        "\n",
        "Print the row containing data for the \"Sega CD\".\n",
        "Print the number of \"Game Boy\" consoles sold."
      ],
      "metadata": {
        "id": "_eeU7kpL0rrO"
      }
    },
    {
      "cell_type": "code",
      "source": [
        "for console in console_data:\n",
        "    if console[0] == \"Sega CD\":\n",
        "        print(console)\n",
        "\n",
        "for console in console_data:\n",
        "    if console[0] == \"Game Boy\":\n",
        "        print(console[5])"
      ],
      "metadata": {
        "colab": {
          "base_uri": "https://localhost:8080/"
        },
        "id": "0gcfvmNc0xyn",
        "outputId": "b39b60fa-3c4b-4c69-aada-2827c6506c76"
      },
      "execution_count": 5,
      "outputs": [
        {
          "output_type": "stream",
          "name": "stdout",
          "text": [
            "['Sega CD', 'Sega', 1991, 1996, 299.0, 2240000]\n",
            "118690000\n"
          ]
        }
      ]
    },
    {
      "cell_type": "markdown",
      "source": [
        "##Task 3: Accessing Columns and Calculating Totals"
      ],
      "metadata": {
        "id": "wxcALoys1Wgn"
      }
    },
    {
      "cell_type": "markdown",
      "source": [
        "###Question 3a: Printing a Column\n",
        "\n",
        "Print the first column, containing the names of the consoles."
      ],
      "metadata": {
        "id": "8q6XO-ee1ZgD"
      }
    },
    {
      "cell_type": "code",
      "source": [
        "for console in console_data:\n",
        "    print(console[0])"
      ],
      "metadata": {
        "colab": {
          "base_uri": "https://localhost:8080/"
        },
        "id": "lP5ScJFc1ce_",
        "outputId": "a9817116-b6c5-4bae-fdb9-804a68c6299e"
      },
      "execution_count": 6,
      "outputs": [
        {
          "output_type": "stream",
          "name": "stdout",
          "text": [
            "NES\n",
            "Game Boy\n",
            "SNES\n",
            "Virtual Boy\n",
            "Game Boy Advance\n",
            "Atari 2600\n",
            "Sega Genesis\n",
            "Game Gear\n",
            "Sega CD\n",
            "3DO\n",
            "PlayStation\n",
            "PlayStation 2\n"
          ]
        }
      ]
    },
    {
      "cell_type": "markdown",
      "source": [
        "###Question 3b: Total Units Sold\n",
        "\n",
        "Calculate and print the total number of consoles sold across all types."
      ],
      "metadata": {
        "id": "OW7RwTlo1pOl"
      }
    },
    {
      "cell_type": "code",
      "source": [
        "total_sold = 0\n",
        "for console in console_data:\n",
        "    total_sold += console[5]\n",
        "\n",
        "print(total_sold)"
      ],
      "metadata": {
        "colab": {
          "base_uri": "https://localhost:8080/"
        },
        "id": "pJmtiCMJ1tUm",
        "outputId": "2f18dfda-1918-49d6-c359-e86fc39ff769"
      },
      "execution_count": 7,
      "outputs": [
        {
          "output_type": "stream",
          "name": "stdout",
          "text": [
            "645080000\n"
          ]
        }
      ]
    },
    {
      "cell_type": "markdown",
      "source": [
        "##Task 4: Conditional Calculations"
      ],
      "metadata": {
        "id": "QBDniMHp1wbv"
      }
    },
    {
      "cell_type": "markdown",
      "source": [
        "###Question 4a: Nintendo Units Sold\n",
        "\n",
        "Calculate and print the total number of units sold for consoles manufactured by Nintendo."
      ],
      "metadata": {
        "id": "fOf9G9qh2Mby"
      }
    },
    {
      "cell_type": "code",
      "source": [
        "nintendo_sold = 0\n",
        "for console in console_data:\n",
        "    if console[1] == 'Nintendo':\n",
        "        nintendo_sold += console[5]\n",
        "\n",
        "print(nintendo_sold)"
      ],
      "metadata": {
        "colab": {
          "base_uri": "https://localhost:8080/"
        },
        "id": "MzDefoZP2XvD",
        "outputId": "185395ea-e5cc-4870-c3a2-13cfe3eac0ab"
      },
      "execution_count": 8,
      "outputs": [
        {
          "output_type": "stream",
          "name": "stdout",
          "text": [
            "311980000\n"
          ]
        }
      ]
    },
    {
      "cell_type": "markdown",
      "source": [
        "###Question 4b: Early Sega and PlayStation Units Sold\n",
        "\n",
        "Calculate and print the total units sold for Sega consoles and the original PlayStation released before 1995."
      ],
      "metadata": {
        "id": "bXVq1nzZ2fks"
      }
    },
    {
      "cell_type": "code",
      "source": [
        "early_units_sold = 0\n",
        "for console in console_data:\n",
        "    if console[2] < 1995:\n",
        "        if console[1] == 'Sega' or console[0] == 'PlayStation':\n",
        "            early_units_sold += console[5]\n",
        "\n",
        "print(early_units_sold)"
      ],
      "metadata": {
        "colab": {
          "base_uri": "https://localhost:8080/"
        },
        "id": "6E76u3GS2m8V",
        "outputId": "62a624d8-5c86-49de-bf4c-96f8bd116764"
      },
      "execution_count": 9,
      "outputs": [
        {
          "output_type": "stream",
          "name": "stdout",
          "text": [
            "146100000\n"
          ]
        }
      ]
    },
    {
      "cell_type": "markdown",
      "source": [
        "##Task 5: Adding a New Metric - Lifespan\n",
        "\n",
        "###Question 5: Calculating and Appending Lifespan\n",
        "\n",
        "Calculate the lifespan of each console (discontinued year - release year) and append it as a new element to each row in console_data. Then, print the updated dataset."
      ],
      "metadata": {
        "id": "cmBoySCl2tE2"
      }
    },
    {
      "cell_type": "code",
      "source": [
        "for row in console_data:\n",
        "    lifespan = row[3] - row[2]\n",
        "    row.append(lifespan)\n",
        "\n",
        "for row in console_data:\n",
        "    for elem in row:\n",
        "        print(f'{elem:<20}', end='')\n",
        "    print()"
      ],
      "metadata": {
        "colab": {
          "base_uri": "https://localhost:8080/"
        },
        "id": "6SFil-PN21Ae",
        "outputId": "b32a427c-bf76-40b7-f893-fd4630460e25"
      },
      "execution_count": 10,
      "outputs": [
        {
          "output_type": "stream",
          "name": "stdout",
          "text": [
            "NES                 Nintendo            1985                1995                179.0               61910000            10                  \n",
            "Game Boy            Nintendo            1989                2003                89.99               118690000           14                  \n",
            "SNES                Nintendo            1990                2003                199.0               49100000            13                  \n",
            "Virtual Boy         Nintendo            1995                1996                179.95              770000              1                   \n",
            "Game Boy Advance    Nintendo            2001                2010                99.99               81510000            9                   \n",
            "Atari 2600          Atari               1977                1992                199.0               30000000            15                  \n",
            "Sega Genesis        Sega                1988                1997                189.0               30750000            9                   \n",
            "Game Gear           Sega                1990                1997                149.99              10620000            7                   \n",
            "Sega CD             Sega                1991                1996                299.0               2240000             5                   \n",
            "3DO                 The 3DO Company     1993                1996                699.99              2000000             3                   \n",
            "PlayStation         Sony Electronics    1994                2006                299.0               102490000           12                  \n",
            "PlayStation 2       Sony Electronics    2000                2013                299.0               155000000           13                  \n"
          ]
        }
      ]
    },
    {
      "cell_type": "markdown",
      "source": [
        "##Task 6: Sorting Data by Lifespan\n",
        "\n",
        "###Question 6: Sorting by Lifespan (Longest to Shortest)\n",
        "\n",
        "Sort the console_data based on the calculated lifespan (the last element of each row) in descending order and store it in sorted_lifespan_data. Then, print the sorted data."
      ],
      "metadata": {
        "id": "ATy4WC4A5ks9"
      }
    },
    {
      "cell_type": "code",
      "source": [
        "def key(row):\n",
        "    return row[-1]\n",
        "\n",
        "sorted_lifespan_data = sorted(console_data, key=key, reverse=True)\n",
        "\n",
        "for row in sorted_lifespan_data:\n",
        "    for elem in row:\n",
        "        print(f'{elem:<20}', end='')\n",
        "    print()"
      ],
      "metadata": {
        "colab": {
          "base_uri": "https://localhost:8080/"
        },
        "id": "KMBc1W3J5rXO",
        "outputId": "bc3de9f0-2ee9-4576-c591-37b23677c777"
      },
      "execution_count": 11,
      "outputs": [
        {
          "output_type": "stream",
          "name": "stdout",
          "text": [
            "Atari 2600          Atari               1977                1992                199.0               30000000            15                  \n",
            "Game Boy            Nintendo            1989                2003                89.99               118690000           14                  \n",
            "SNES                Nintendo            1990                2003                199.0               49100000            13                  \n",
            "PlayStation 2       Sony Electronics    2000                2013                299.0               155000000           13                  \n",
            "PlayStation         Sony Electronics    1994                2006                299.0               102490000           12                  \n",
            "NES                 Nintendo            1985                1995                179.0               61910000            10                  \n",
            "Game Boy Advance    Nintendo            2001                2010                99.99               81510000            9                   \n",
            "Sega Genesis        Sega                1988                1997                189.0               30750000            9                   \n",
            "Game Gear           Sega                1990                1997                149.99              10620000            7                   \n",
            "Sega CD             Sega                1991                1996                299.0               2240000             5                   \n",
            "3DO                 The 3DO Company     1993                1996                699.99              2000000             3                   \n",
            "Virtual Boy         Nintendo            1995                1996                179.95              770000              1                   \n"
          ]
        }
      ]
    },
    {
      "cell_type": "markdown",
      "source": [
        "##Task 7: Calculating and Sorting by Revenue\n",
        "\n",
        "###Question 7: Calculating and Sorting by Total Revenue\n",
        "\n",
        "Calculate the total revenue for each console (release price * units sold) and append it as a new element to each row in the original console_data. Then, sort the console_data based on this calculated revenue in descending order and print the result."
      ],
      "metadata": {
        "id": "xoqi5Ew45wjN"
      }
    },
    {
      "cell_type": "code",
      "source": [
        "for row in console_data:\n",
        "    revenue_data = row[4] * row[5]\n",
        "    row.append(revenue_data)\n",
        "\n",
        "sorted_revenue_data = sorted(console_data, key=lambda row: row[-1], reverse=True)\n",
        "\n",
        "for row in sorted_revenue_data:\n",
        "    for elem in row:\n",
        "        print(f'{elem:<20}', end='')\n",
        "    print()"
      ],
      "metadata": {
        "colab": {
          "base_uri": "https://localhost:8080/"
        },
        "id": "KFiCJgHg54I_",
        "outputId": "bff5c0f0-2452-4a16-f016-9e73932c443e"
      },
      "execution_count": 12,
      "outputs": [
        {
          "output_type": "stream",
          "name": "stdout",
          "text": [
            "PlayStation 2       Sony Electronics    2000                2013                299.0               155000000           13                  46345000000.0       \n",
            "PlayStation         Sony Electronics    1994                2006                299.0               102490000           12                  30644510000.0       \n",
            "NES                 Nintendo            1985                1995                179.0               61910000            10                  11081890000.0       \n",
            "Game Boy            Nintendo            1989                2003                89.99               118690000           14                  10680913100.0       \n",
            "SNES                Nintendo            1990                2003                199.0               49100000            13                  9770900000.0        \n",
            "Game Boy Advance    Nintendo            2001                2010                99.99               81510000            9                   8150184900.0        \n",
            "Atari 2600          Atari               1977                1992                199.0               30000000            15                  5970000000.0        \n",
            "Sega Genesis        Sega                1988                1997                189.0               30750000            9                   5811750000.0        \n",
            "Game Gear           Sega                1990                1997                149.99              10620000            7                   1592893800.0        \n",
            "3DO                 The 3DO Company     1993                1996                699.99              2000000             3                   1399980000.0        \n",
            "Sega CD             Sega                1991                1996                299.0               2240000             5                   669760000.0         \n",
            "Virtual Boy         Nintendo            1995                1996                179.95              770000              1                   138561500.0         \n"
          ]
        }
      ]
    },
    {
      "cell_type": "markdown",
      "source": [
        "#Recommendations & Next Steps\n",
        "\n",
        "- Based on the revenue analysis, prioritize acquiring and repairing PlayStation 2, PlayStation, and NES consoles. These generate the highest revenue and are likely to be the most profitable.  \n",
        "- Consider the lifespan analysis in conjunction with revenue. Consoles with a long lifespan (e.g., Atari 2600, Game Boy) might have a steady demand, even if the revenue per unit is lower. This could be a good diversification strategy.  \n",
        "- Analyze the price elasticity of demand. How do changes in price affect the sales volume for different consoles? This could require additional data collection or experimentation.  \n",
        "\n",
        "Future Dataset Inclusions:\n",
        "- **Repair costs**: To calculate actual profit margins.\n",
        "- **Sales volume over time**: Instead of just total units sold, get data on sales per year to understand trends.\n",
        "- **Online marketplace data**: Compare prices and demand on platforms like eBay.\n",
        "- **Game sales data**: Analyze if the availability of popular games influences console sales.\n",
        "\n"
      ],
      "metadata": {
        "id": "Lht0KdTH7ENp"
      }
    }
  ]
}